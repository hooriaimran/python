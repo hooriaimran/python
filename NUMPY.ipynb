{
 "cells": [
  {
   "cell_type": "code",
   "execution_count": null,
   "id": "df5c764a",
   "metadata": {},
   "outputs": [
    {
     "name": "stdout",
     "output_type": "stream",
     "text": [
      "[1 2 3]\n",
      "[[1 2 3]\n",
      " [4 5 6]]\n",
      "[[0. 0. 0.]\n",
      " [0. 0. 0.]]\n",
      "[[1. 1. 1.]\n",
      " [1. 1. 1.]]\n",
      "[0 2 4 6 8]\n",
      "2\n",
      "[2 5]\n",
      "[10 20 30 40]\n",
      "40\n",
      "[10 30]\n",
      "[[1 2 3]\n",
      " [4 5 6]]\n",
      "[[1 2]\n",
      " [3 4]\n",
      " [5 6]]\n",
      "[1 2 3] next\n",
      "[[4]\n",
      " [5]\n",
      " [6]]\n",
      "[[5 6 7]\n",
      " [6 7 8]\n",
      " [7 8 9]]\n"
     ]
    }
   ],
   "source": [
    "\n",
    "#1. Creating Arrays:\n",
    "import numpy as np\n",
    "# 1D\n",
    "a = np.array([1,2,3])\n",
    "print(a)\n",
    "\n",
    "# 2D\n",
    "b = np.array([[1,2,3], [4, 5, 6]])\n",
    "print(b)\n",
    "# Array of zeros\n",
    "zeros = np.zeros((2,3))\n",
    "print(zeros)\n",
    "# Array of ones\n",
    "ones = np.ones((2,3))\n",
    "print(ones)\n",
    "# Array with a range of values\n",
    "range_array = np.arange(0, 10, 2)\n",
    "print(range_array)\n",
    "# Array wih evenly spaced values\n",
    "#2. Indexing and Slicing:\n",
    "arr = np.array([[1,2,3], [4,5,6]])\n",
    "# Accessing elements\n",
    "print(arr[0, 1])\n",
    "# Slicing\n",
    "print(arr[:, 1])\n",
    "# Fancy indexing\n",
    "c = np.array([10, 20, 30, 40])\n",
    "print(c)\n",
    "# Negative indexing\n",
    "print(c[-1])  # Output: 40\n",
    "print(c[[0, 2]])  # Output: [10 30]\n",
    "#3.Reshaping Array:\n",
    "print(arr)\n",
    "reshaped = arr.reshape((3,2))\n",
    "print(reshaped)\n",
    "#4. Broadcasting:\n",
    "v = np.array([1,2,3])\n",
    "u = np.array([[4],[5],[6]])\n",
    "print(v, 'next')\n",
    "print(u)\n",
    "# Broadcasting addition\n",
    "print(v + u)\n",
    "\n",
    "\n"
   ]
  },
  {
   "cell_type": "code",
   "execution_count": 3,
   "id": "abb1f53c",
   "metadata": {},
   "outputs": [
    {
     "name": "stdout",
     "output_type": "stream",
     "text": [
      "[[1 2 3]\n",
      " [4 5 6]]\n"
     ]
    }
   ],
   "source": [
    "# 2D\n",
    "b = np.array([[1,2,3], [4, 5, 6]])\n",
    "print(b)\n",
    "\n"
   ]
  },
  {
   "cell_type": "code",
   "execution_count": 4,
   "id": "361caceb",
   "metadata": {},
   "outputs": [
    {
     "name": "stdout",
     "output_type": "stream",
     "text": [
      "[[0. 0. 0.]\n",
      " [0. 0. 0.]]\n"
     ]
    }
   ],
   "source": [
    "# Array of zeros\n",
    "zeros = np.zeros((2,3))\n",
    "print(zeros)\n"
   ]
  },
  {
   "cell_type": "code",
   "execution_count": null,
   "id": "fcb87b51",
   "metadata": {},
   "outputs": [
    {
     "name": "stdout",
     "output_type": "stream",
     "text": [
      "[[1. 1. 1.]\n",
      " [1. 1. 1.]]\n",
      "[0 2 4 6 8]\n",
      "2\n",
      "[2 5]\n",
      "[10 20 30 40]\n",
      "40\n",
      "[10 30]\n",
      "[[1 2 3]\n",
      " [4 5 6]]\n",
      "[[1 2]\n",
      " [3 4]\n",
      " [5 6]]\n",
      "[1 2 3] next\n",
      "[[4]\n",
      " [5]\n",
      " [6]]\n",
      "[[5 6 7]\n",
      " [6 7 8]\n",
      " [7 8 9]]\n"
     ]
    }
   ],
   "source": [
    "# Array of ones\n",
    "ones = np.ones((2,3))\n",
    "print(ones)\n",
    "# Array with a range of values\n",
    "range_array = np.arange(0, 10, 2)\n",
    "print(range_array)\n",
    "# Array wih evenly spaced values\n",
    "#2. Indexing and Slicing:\n",
    "arr = np.array([[1,2,3], [4,5,6]])\n",
    "# Accessing elements\n",
    "print(arr[0, 1])\n",
    "# Slicing\n",
    "print(arr[:, 1])\n",
    "# Fancy indexing\n",
    "c = np.array([10, 20, 30, 40])\n",
    "print(c)\n",
    "# Negative indexing\n",
    "print(c[-1])  # Output: 40\n",
    "print(c[[0, 2]])  # Output: [10 30]\n",
    "3#.Reshaping Array:\n",
    "print(arr)\n",
    "reshaped = arr.reshape((3,2))\n",
    "print(reshaped)\n",
    "#4. Broadcasting:\n",
    "v = np.array([1,2,3])\n",
    "u = np.array([[4],[5],[6]])\n",
    "print(v, 'next')\n",
    "print(u)\n",
    "# Broadcasting addition\n",
    "print(v + u)"
   ]
  },
  {
   "cell_type": "code",
   "execution_count": 6,
   "id": "435c822c",
   "metadata": {},
   "outputs": [
    {
     "name": "stdout",
     "output_type": "stream",
     "text": [
      "[0 2 4 6 8]\n"
     ]
    }
   ],
   "source": [
    "# Array with a range of values\n",
    "range_array = np.arange(0, 10, 2)\n",
    "print(range_array)"
   ]
  },
  {
   "cell_type": "code",
   "execution_count": 7,
   "id": "84f70838",
   "metadata": {},
   "outputs": [
    {
     "name": "stdout",
     "output_type": "stream",
     "text": [
      "2\n"
     ]
    }
   ],
   "source": [
    "# Array wih evenly spaced values\n",
    "#2. Indexing and Slicing:\n",
    "arr = np.array([[1,2,3], [4,5,6]])\n",
    "# Accessing elements\n",
    "print(arr[0, 1])"
   ]
  },
  {
   "cell_type": "code",
   "execution_count": 8,
   "id": "7be4fd1d",
   "metadata": {},
   "outputs": [
    {
     "name": "stdout",
     "output_type": "stream",
     "text": [
      "[2 5]\n"
     ]
    }
   ],
   "source": [
    "# Slicing\n",
    "print(arr[:, 1])"
   ]
  },
  {
   "cell_type": "code",
   "execution_count": 9,
   "id": "ef7cbde9",
   "metadata": {},
   "outputs": [
    {
     "name": "stdout",
     "output_type": "stream",
     "text": [
      "[10 20 30 40]\n"
     ]
    }
   ],
   "source": [
    "# Fancy indexing\n",
    "c = np.array([10, 20, 30, 40])\n",
    "print(c)"
   ]
  },
  {
   "cell_type": "code",
   "execution_count": 10,
   "id": "f08f1e18",
   "metadata": {},
   "outputs": [
    {
     "name": "stdout",
     "output_type": "stream",
     "text": [
      "40\n",
      "[10 30]\n"
     ]
    }
   ],
   "source": [
    "# Negative indexing\n",
    "print(c[-1])  # Output: 40\n",
    "print(c[[0, 2]])  # Output: [10 30]"
   ]
  },
  {
   "cell_type": "code",
   "execution_count": 11,
   "id": "a17974f3",
   "metadata": {},
   "outputs": [
    {
     "name": "stdout",
     "output_type": "stream",
     "text": [
      "[[1 2 3]\n",
      " [4 5 6]]\n",
      "[[1 2]\n",
      " [3 4]\n",
      " [5 6]]\n"
     ]
    }
   ],
   "source": [
    "3#.Reshaping Array:\n",
    "print(arr)\n",
    "reshaped = arr.reshape((3,2))\n",
    "print(reshaped)"
   ]
  },
  {
   "cell_type": "code",
   "execution_count": 12,
   "id": "bf74c9fe",
   "metadata": {},
   "outputs": [
    {
     "name": "stdout",
     "output_type": "stream",
     "text": [
      "[1 2 3] next\n",
      "[[4]\n",
      " [5]\n",
      " [6]]\n"
     ]
    }
   ],
   "source": [
    "#4. Broadcasting:\n",
    "v = np.array([1,2,3])\n",
    "u = np.array([[4],[5],[6]])\n",
    "print(v, 'next')\n",
    "print(u)"
   ]
  },
  {
   "cell_type": "code",
   "execution_count": 13,
   "id": "dfcbe753",
   "metadata": {},
   "outputs": [
    {
     "name": "stdout",
     "output_type": "stream",
     "text": [
      "[[5 6 7]\n",
      " [6 7 8]\n",
      " [7 8 9]]\n"
     ]
    }
   ],
   "source": [
    "# Broadcasting addition\n",
    "print(v + u)\n"
   ]
  },
  {
   "cell_type": "code",
   "execution_count": null,
   "id": "79cba1ba",
   "metadata": {},
   "outputs": [],
   "source": []
  }
 ],
 "metadata": {
  "kernelspec": {
   "display_name": "base",
   "language": "python",
   "name": "python3"
  },
  "language_info": {
   "codemirror_mode": {
    "name": "ipython",
    "version": 3
   },
   "file_extension": ".py",
   "mimetype": "text/x-python",
   "name": "python",
   "nbconvert_exporter": "python",
   "pygments_lexer": "ipython3",
   "version": "3.13.5"
  }
 },
 "nbformat": 4,
 "nbformat_minor": 5
}
