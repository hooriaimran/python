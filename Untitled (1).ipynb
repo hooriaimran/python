{
 "cells": [
  {
   "cell_type": "code",
   "execution_count": null,
   "id": "f3586d1e-8499-4b13-918d-e776e4d6abf2",
   "metadata": {},
   "outputs": [],
   "source": []
  }
 ],
 "metadata": {
  "kernelspec": {
   "display_name": "",
   "name": ""
  },
  "language_info": {
   "name": ""
  }
 },
 "nbformat": 4,
 "nbformat_minor": 5
}
